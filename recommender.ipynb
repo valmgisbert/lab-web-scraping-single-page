{
 "cells": [
  {
   "cell_type": "markdown",
   "metadata": {},
   "source": [
    "# Song recommender (using Spotify API)"
   ]
  },
  {
   "cell_type": "code",
   "execution_count": 2,
   "metadata": {},
   "outputs": [],
   "source": [
    "# import all necessary libraries\n",
    "import pandas as pd\n",
    "import numpy as np\n",
    "import random\n",
    "from pandas import json_normalize\n",
    "pd.set_option(\"display.max_columns\", 0) #no limit to cols we want to see\n",
    "from sklearn import cluster \n",
    "from sklearn.preprocessing import StandardScaler\n",
    "from sklearn.cluster import KMeans\n",
    "\n",
    "# spotify\n",
    "import spotipy\n",
    "from spotipy.oauth2 import SpotifyClientCredentials\n",
    "\n",
    "import pickle"
   ]
  },
  {
   "cell_type": "code",
   "execution_count": 7,
   "metadata": {},
   "outputs": [],
   "source": [
    "#import all files\n",
    "hot_songs = pd.read_csv('hot_songs.csv')\n",
    "top10k_songs = pd.read_pickle('playlist_final.pkl')"
   ]
  },
  {
   "cell_type": "code",
   "execution_count": 9,
   "metadata": {},
   "outputs": [],
   "source": [
    "# import models and predictors\n",
    "kmeans = pickle.load(open('kmeans8.sav','rb'))\n",
    "scaler = pickle.load(open('scaler.sav','rb'))"
   ]
  },
  {
   "cell_type": "code",
   "execution_count": 10,
   "metadata": {},
   "outputs": [],
   "source": [
    "# lower all cases in both datasets\n",
    "hot_songs['song']=hot_songs['song'].str.lower()\n",
    "top10k_songs['track.name']=top10k_songs['track.name'].str.lower()\n"
   ]
  },
  {
   "cell_type": "markdown",
   "metadata": {},
   "source": [
    "***"
   ]
  },
  {
   "cell_type": "code",
   "execution_count": 11,
   "metadata": {},
   "outputs": [],
   "source": [
    "# spotify auth\n",
    "# auth path with creds text file\n",
    "secrets_file = open('secrets.txt','r') \n",
    "\n",
    "# read and split to ready for creds\n",
    "string = secrets_file.read()\n",
    "string.split('\\n')\n",
    "\n",
    "# use this to make it a dictionary\n",
    "secrets_dict={}\n",
    "for line in string.split('\\n'):\n",
    "    if len(line) > 0:\n",
    "        #print(line.split(':'))\n",
    "        secrets_dict[line.split(':')[0]]=line.split(':')[1].strip()\n",
    "\n",
    "# spotipy init with user credentials\n",
    "sp = spotipy.Spotify(auth_manager = SpotifyClientCredentials(client_id = secrets_dict['clientid'],\n",
    "                                                            client_secret = secrets_dict['clientsecret']))"
   ]
  },
  {
   "cell_type": "markdown",
   "metadata": {},
   "source": [
    "#### Recommender function"
   ]
  },
  {
   "cell_type": "code",
   "execution_count": 21,
   "metadata": {},
   "outputs": [],
   "source": [
    "# receive a song and recommend another random one from the df\n",
    "def recommender(query, df1, df2):\n",
    "    if query.lower() in df1.song.values:\n",
    "        # pick random number to get random song and artist\n",
    "        random_idx = random.randint(0, len(df1)-1)   \n",
    "\n",
    "        # rec response\n",
    "        print(\"-Paris Hilton voice- That's hot! Here's another recommendation for you:\", df1['song'].iloc[random_idx], \n",
    "        \"by\", \n",
    "        df1['artist'].iloc[random_idx])\n",
    "\n",
    "    elif query.lower() in df2['track.name'].values:\n",
    "        # identify song in playlist and get all songs in the query cluster\n",
    "        query_row = df2[df2['track.name'].isin([query])]\n",
    "        group = df2[df2['cluster'].values == query_row['cluster'].values]\n",
    "\n",
    "        # pick random number to get random song and artist\n",
    "        random_idx = random.randint(0, len(group)-1)\n",
    "\n",
    "        # rec response    \n",
    "        print(\"-Paris Hilton voice- That's hot! Here's another recommendation for you:\", df2['track.name'].iloc[random_idx], \n",
    "        \"by\", \n",
    "        df2['name'].iloc[random_idx])\n",
    "        \n",
    "    else:\n",
    "        # look up song from user query\n",
    "        spsearch = sp.search(q = query.lower(), type = 'track', limit = 1)\n",
    "\n",
    "        # get the song id to look up audio feats\n",
    "        song_id = spsearch['tracks']['items'][0]['id']\n",
    "        audio_feats = sp.audio_features(song_id)\n",
    "\n",
    "        # normalise and get only numericals\n",
    "        au_norm = json_normalize(audio_feats)\n",
    "        song_df = au_norm.select_dtypes(np.number)\n",
    "\n",
    "        # scale\n",
    "        song_scaled = scaler.transform(song_df)\n",
    "        X_song_scaled = pd.DataFrame(song_scaled, columns = song_df.columns)\n",
    "\n",
    "        # then predict\n",
    "        song_predict = kmeans.predict(X_song_scaled)\n",
    "\n",
    "        # now point it to the playlist and get its cluster buddies\n",
    "        group = df2[df2['cluster'] == song_predict[0]]\n",
    "\n",
    "        # get a random song from that cluster\n",
    "        random_idx = random.randint(0, len(group)-1)\n",
    "        print(\"We don't have that babes, but here's something similar:\", \n",
    "            group['track.name'].iloc[random_idx],\n",
    "            \"by\",\n",
    "            group['name'].iloc[random_idx])"
   ]
  },
  {
   "cell_type": "markdown",
   "metadata": {},
   "source": [
    "***"
   ]
  },
  {
   "cell_type": "code",
   "execution_count": 22,
   "metadata": {},
   "outputs": [
    {
     "name": "stdout",
     "output_type": "stream",
     "text": [
      "We don't have that babes, but here's something similar: flamenco sketches (feat. john coltrane, cannonball adderley & bill evans) by Bill Evans\n"
     ]
    }
   ],
   "source": [
    "# test with user input\n",
    "song = input('Gimme a song baybeh')\n",
    "song_info = recommender(song, hot_songs, top10k_songs)\n",
    "song_info"
   ]
  },
  {
   "cell_type": "code",
   "execution_count": null,
   "metadata": {},
   "outputs": [],
   "source": []
  }
 ],
 "metadata": {
  "kernelspec": {
   "display_name": "base",
   "language": "python",
   "name": "python3"
  },
  "language_info": {
   "codemirror_mode": {
    "name": "ipython",
    "version": 3
   },
   "file_extension": ".py",
   "mimetype": "text/x-python",
   "name": "python",
   "nbconvert_exporter": "python",
   "pygments_lexer": "ipython3",
   "version": "3.10.9"
  },
  "orig_nbformat": 4
 },
 "nbformat": 4,
 "nbformat_minor": 2
}
