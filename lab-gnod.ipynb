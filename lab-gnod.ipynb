{
 "cells": [
  {
   "cell_type": "markdown",
   "metadata": {},
   "source": [
    "# GNOD week 6"
   ]
  },
  {
   "cell_type": "markdown",
   "metadata": {},
   "source": [
    "## LAB | Web Scraping Single Page (GNOD part 1)"
   ]
  },
  {
   "cell_type": "markdown",
   "metadata": {},
   "source": [
    "- Check the case_study_gnod.md file.\n",
    "- Make sure you've understood the big picture of your project:\n",
    "    - the goal of the company (Gnod),\n",
    "    - their current product (Gnoosic),\n",
    "    - their strategy, and\n",
    "    - how your project fits into this context.\n",
    "- Re-read the business case and the e-mail from the CTO."
   ]
  },
  {
   "cell_type": "markdown",
   "metadata": {},
   "source": [
    "**Instructions - Scraping popular songs** <br>\n",
    "Your product will take a song as an input from the user and will output another song (the recommendation). In most cases, the recommended song will have to be similar to the inputted song, but the CTO thinks that if the song is on the top charts at the moment, the user will also enjoy a recommendation of another song that is popular at the moment.\n",
    "\n",
    "You have to find data on the internet about currently popular songs. Popvortex maintains a weekly Top 100 of \"hot\" songs here: http://www.popvortex.com/music/charts/top-100-songs.php.\n",
    "\n",
    "It's a good place to start! Scrape the current top 100 songs and their respective artists, and put the information into a pandas dataframe."
   ]
  },
  {
   "cell_type": "code",
   "execution_count": 1,
   "metadata": {},
   "outputs": [],
   "source": [
    "# import libraries\n",
    "from bs4 import BeautifulSoup\n",
    "import requests\n",
    "import pandas as pd\n",
    "\n",
    "import random\n",
    "from time import sleep"
   ]
  },
  {
   "cell_type": "code",
   "execution_count": 2,
   "metadata": {},
   "outputs": [],
   "source": [
    "# find url and store it in variable\n",
    "url = \"https://www.popvortex.com/music/charts/top-100-songs.php\""
   ]
  },
  {
   "cell_type": "code",
   "execution_count": 3,
   "metadata": {},
   "outputs": [
    {
     "data": {
      "text/plain": [
       "200"
      ]
     },
     "execution_count": 3,
     "metadata": {},
     "output_type": "execute_result"
    }
   ],
   "source": [
    "# download html with GET req and check status code\n",
    "response = requests.get(url)\n",
    "response.status_code\n"
   ]
  },
  {
   "cell_type": "code",
   "execution_count": 4,
   "metadata": {},
   "outputs": [],
   "source": [
    "# create the soup\n",
    "soup = BeautifulSoup(response.content, \"html.parser\")\n",
    "# soup"
   ]
  },
  {
   "cell_type": "code",
   "execution_count": 5,
   "metadata": {},
   "outputs": [],
   "source": [
    "# check that everything is okay\n",
    "# print(soup.prettify())"
   ]
  },
  {
   "cell_type": "code",
   "execution_count": 6,
   "metadata": {},
   "outputs": [],
   "source": [
    "# retrieve desired info\n",
    "# for song in soup.select(\"body > div.container > div:nth-child(4) > div.col-xs-12.col-md-8 > div.chart-wrapper > div.feed-item.music-chart.flex-row\"):\n",
    "#     print(song.cite.get_text(), song.em.get_text())"
   ]
  },
  {
   "cell_type": "code",
   "execution_count": 7,
   "metadata": {},
   "outputs": [],
   "source": [
    "# init empty lists\n",
    "songs = []\n",
    "artists = []\n",
    "\n",
    "# save copied selector into a var\n",
    "path = \"body > div.container > div:nth-child(4) > div.col-xs-12.col-md-8 > div.chart-wrapper > div.feed-item.music-chart.flex-row\"\n",
    "\n",
    "# grab necessary items and append it to respective list\n",
    "for i in soup.select(path):\n",
    "    songs.append(i.cite.get_text())\n",
    "    artists.append(i.em.get_text())"
   ]
  },
  {
   "cell_type": "code",
   "execution_count": 40,
   "metadata": {},
   "outputs": [
    {
     "data": {
      "text/html": [
       "<div>\n",
       "<style scoped>\n",
       "    .dataframe tbody tr th:only-of-type {\n",
       "        vertical-align: middle;\n",
       "    }\n",
       "\n",
       "    .dataframe tbody tr th {\n",
       "        vertical-align: top;\n",
       "    }\n",
       "\n",
       "    .dataframe thead th {\n",
       "        text-align: right;\n",
       "    }\n",
       "</style>\n",
       "<table border=\"1\" class=\"dataframe\">\n",
       "  <thead>\n",
       "    <tr style=\"text-align: right;\">\n",
       "      <th></th>\n",
       "      <th>song</th>\n",
       "      <th>artist</th>\n",
       "    </tr>\n",
       "  </thead>\n",
       "  <tbody>\n",
       "    <tr>\n",
       "      <th>0</th>\n",
       "      <td>Margaritaville</td>\n",
       "      <td>Jimmy Buffett</td>\n",
       "    </tr>\n",
       "    <tr>\n",
       "      <th>1</th>\n",
       "      <td>Come Monday</td>\n",
       "      <td>Jimmy Buffett</td>\n",
       "    </tr>\n",
       "    <tr>\n",
       "      <th>2</th>\n",
       "      <td>Rich Men North of Richmond</td>\n",
       "      <td>Oliver Anthony Music</td>\n",
       "    </tr>\n",
       "    <tr>\n",
       "      <th>3</th>\n",
       "      <td>Cheeseburger In Paradise</td>\n",
       "      <td>Jimmy Buffett</td>\n",
       "    </tr>\n",
       "    <tr>\n",
       "      <th>4</th>\n",
       "      <td>Changes In Latitudes, Changes In Attitudes</td>\n",
       "      <td>Jimmy Buffett</td>\n",
       "    </tr>\n",
       "    <tr>\n",
       "      <th>...</th>\n",
       "      <td>...</td>\n",
       "      <td>...</td>\n",
       "    </tr>\n",
       "    <tr>\n",
       "      <th>95</th>\n",
       "      <td>Can't Get Enough of You Baby</td>\n",
       "      <td>Smash Mouth</td>\n",
       "    </tr>\n",
       "    <tr>\n",
       "      <th>96</th>\n",
       "      <td>Spirit In the Sky</td>\n",
       "      <td>Norman Greenbaum</td>\n",
       "    </tr>\n",
       "    <tr>\n",
       "      <th>97</th>\n",
       "      <td>bad idea right?</td>\n",
       "      <td>Olivia Rodrigo</td>\n",
       "    </tr>\n",
       "    <tr>\n",
       "      <th>98</th>\n",
       "      <td>Whiteboyz</td>\n",
       "      <td>Tom MacDonald &amp; Adam Calhoun</td>\n",
       "    </tr>\n",
       "    <tr>\n",
       "      <th>99</th>\n",
       "      <td>Bring Me to Life</td>\n",
       "      <td>Evanescence</td>\n",
       "    </tr>\n",
       "  </tbody>\n",
       "</table>\n",
       "<p>100 rows × 2 columns</p>\n",
       "</div>"
      ],
      "text/plain": [
       "                                          song                        artist\n",
       "0                               Margaritaville                 Jimmy Buffett\n",
       "1                                  Come Monday                 Jimmy Buffett\n",
       "2                   Rich Men North of Richmond          Oliver Anthony Music\n",
       "3                     Cheeseburger In Paradise                 Jimmy Buffett\n",
       "4   Changes In Latitudes, Changes In Attitudes                 Jimmy Buffett\n",
       "..                                         ...                           ...\n",
       "95                Can't Get Enough of You Baby                   Smash Mouth\n",
       "96                           Spirit In the Sky              Norman Greenbaum\n",
       "97                             bad idea right?                Olivia Rodrigo\n",
       "98                                   Whiteboyz  Tom MacDonald & Adam Calhoun\n",
       "99                            Bring Me to Life                   Evanescence\n",
       "\n",
       "[100 rows x 2 columns]"
      ]
     },
     "execution_count": 40,
     "metadata": {},
     "output_type": "execute_result"
    }
   ],
   "source": [
    "# create the df with organised info\n",
    "top_100 = pd.DataFrame({\"song\": songs,\n",
    "                        \"artist\": artists})\n",
    "\n",
    "top_100"
   ]
  },
  {
   "cell_type": "markdown",
   "metadata": {},
   "source": [
    "## LAB | Web Scraping Multiple Pages"
   ]
  },
  {
   "cell_type": "markdown",
   "metadata": {},
   "source": [
    "**Expand the project** <br>\n",
    "If you're done, you can try to expand the project on your own. \n",
    "- Chosen option: expand by using Eurovision songs in the last 20 years."
   ]
  },
  {
   "cell_type": "code",
   "execution_count": 9,
   "metadata": {},
   "outputs": [],
   "source": [
    "# find url and store it in var\n",
    "url = \"https://en.wikipedia.org/wiki/List_of_Eurovision_Song_Contest_winners\""
   ]
  },
  {
   "cell_type": "code",
   "execution_count": 10,
   "metadata": {},
   "outputs": [
    {
     "data": {
      "text/plain": [
       "200"
      ]
     },
     "execution_count": 10,
     "metadata": {},
     "output_type": "execute_result"
    }
   ],
   "source": [
    "# dowload html with get req\n",
    "response = requests.get(url)\n",
    "response.status_code"
   ]
  },
  {
   "cell_type": "code",
   "execution_count": 11,
   "metadata": {},
   "outputs": [],
   "source": [
    "## make good soup\n",
    "soup = BeautifulSoup(response.content, \"html.parser\")"
   ]
  },
  {
   "cell_type": "code",
   "execution_count": 12,
   "metadata": {},
   "outputs": [],
   "source": [
    "euwinners = soup.select(\"table\")[0]"
   ]
  },
  {
   "cell_type": "code",
   "execution_count": 13,
   "metadata": {},
   "outputs": [],
   "source": [
    "# This will find all `a` tags under the third(2nd index) `td` of it's type\n",
    "eusongs = []\n",
    "\n",
    "for tag in euwinners.select(\"td:nth-of-type(2) a\"):\n",
    "    eusongs.append(tag[\"href\"])"
   ]
  },
  {
   "cell_type": "code",
   "execution_count": 14,
   "metadata": {},
   "outputs": [
    {
     "name": "stdout",
     "output_type": "stream",
     "text": [
      "200\n"
     ]
    },
    {
     "data": {
      "text/plain": [
       "[<table class=\"infobox\"><tbody><tr><th class=\"infobox-above\" colspan=\"2\" style=\"background: #BFDFFF;\"><span class=\"flagicon\"><span class=\"mw-image-border\" typeof=\"mw:File\"><a href=\"/wiki/Switzerland\" title=\"Switzerland\"><img alt=\"Switzerland\" class=\"mw-file-element\" data-file-height=\"512\" data-file-width=\"512\" decoding=\"async\" height=\"16\" src=\"//upload.wikimedia.org/wikipedia/commons/thumb/0/08/Flag_of_Switzerland_%28Pantone%29.svg/16px-Flag_of_Switzerland_%28Pantone%29.svg.png\" srcset=\"//upload.wikimedia.org/wikipedia/commons/thumb/0/08/Flag_of_Switzerland_%28Pantone%29.svg/24px-Flag_of_Switzerland_%28Pantone%29.svg.png 1.5x, //upload.wikimedia.org/wikipedia/commons/thumb/0/08/Flag_of_Switzerland_%28Pantone%29.svg/32px-Flag_of_Switzerland_%28Pantone%29.svg.png 2x\" width=\"16\"/></a></span></span> \"Refrain\"</th></tr><tr><td class=\"infobox-image\" colspan=\"2\"><span typeof=\"mw:File\"><a class=\"mw-file-description\" href=\"/wiki/File:Lys_Assia_-_Refrain.jpg\"><img class=\"mw-file-element\" data-file-height=\"245\" data-file-width=\"250\" decoding=\"async\" height=\"196\" src=\"//upload.wikimedia.org/wikipedia/en/thumb/e/ea/Lys_Assia_-_Refrain.jpg/200px-Lys_Assia_-_Refrain.jpg\" srcset=\"//upload.wikimedia.org/wikipedia/en/e/ea/Lys_Assia_-_Refrain.jpg 1.5x\" width=\"200\"/></a></span></td></tr><tr><th class=\"infobox-header\" colspan=\"2\" style=\"background: #BFDFFF;\"><a href=\"/wiki/Eurovision_Song_Contest_1956\" title=\"Eurovision Song Contest 1956\">Eurovision Song Contest 1956</a> entry</th></tr><tr><th class=\"infobox-label\" scope=\"row\">Country</th><td class=\"infobox-data\"><div style=\"text-align:left;\"><a href=\"/wiki/Switzerland_in_the_Eurovision_Song_Contest\" title=\"Switzerland in the Eurovision Song Contest\">Switzerland</a></div></td></tr><tr><th class=\"infobox-label\" scope=\"row\">Artist(s)</th><td class=\"infobox-data\"><div style=\"text-align:left;\"><a href=\"/wiki/Lys_Assia\" title=\"Lys Assia\">Lys Assia</a></div></td></tr><tr><th class=\"infobox-label\" scope=\"row\">Language</th><td class=\"infobox-data\"><div style=\"text-align:left;\"><a href=\"/wiki/French_language\" title=\"French language\">French</a></div></td></tr><tr><th class=\"infobox-label\" scope=\"row\">Composer(s)</th><td class=\"infobox-data\"><div style=\"text-align:left;\"><a href=\"/wiki/G%C3%A9o_Voumard\" title=\"Géo Voumard\">Géo Voumard</a></div></td></tr><tr><th class=\"infobox-label\" scope=\"row\">Lyricist(s)</th><td class=\"infobox-data\"><div style=\"text-align:left;\"><a href=\"/wiki/%C3%89mile_Gardaz\" title=\"Émile Gardaz\">Émile Gardaz</a></div></td></tr><tr><th class=\"infobox-label\" scope=\"row\">Conductor</th><td class=\"infobox-data\"><div style=\"text-align:left;\">Fernando Paggi</div></td></tr><tr><th class=\"infobox-header\" colspan=\"2\" style=\"background: #BFDFFF;\">Finals performance</th></tr><tr><th class=\"infobox-label\" scope=\"row\">Final result</th><td class=\"infobox-data\"><div style=\"text-align:left;\">1st</div></td></tr><tr><th class=\"infobox-header\" colspan=\"2\" style=\"background: #BFDFFF;\">Entry chronology</th></tr><tr><td class=\"infobox-full-data\" colspan=\"2\"><b><a class=\"mw-redirect\" href=\"/wiki/Das_alte_Karussell\" title=\"Das alte Karussell\">◄ \"Das alte Karussell\" (1956)</a></b></td></tr><tr><td class=\"infobox-full-data\" colspan=\"2\"><b><a class=\"mw-redirect\" href=\"/wiki/L%27enfant_que_j%27%C3%A9tais\" title=\"L'enfant que j'étais\">\"L'enfant que j'étais\" (1957) ►</a></b></td></tr></tbody></table>]"
      ]
     },
     "execution_count": 14,
     "metadata": {},
     "output_type": "execute_result"
    }
   ],
   "source": [
    "# # send request with full song link\n",
    "# url = \"https://en.wikipedia.org\" + eusongs[0]\n",
    "# response = requests.get(url)\n",
    "# print(response.status_code)\n",
    "\n",
    "# # make soup\n",
    "# soup = BeautifulSoup(response.content, \"html.parser\")\n",
    "# soup.select(\"table.infobox\")\n"
   ]
  },
  {
   "cell_type": "code",
   "execution_count": 65,
   "metadata": {},
   "outputs": [],
   "source": [
    "# # 2. find url and store it in a variable\n",
    "\n",
    "# eusongs_soups = []\n",
    "\n",
    "# # if it stop sdue to long timeout err, use the index of the leftovers to fill it  \n",
    "# for song in eusongs:\n",
    "#     # send request\n",
    "#     url = \"https://en.wikipedia.org\" + song\n",
    "#     response = requests.get(url)\n",
    "#     print(song, response.status_code)\n",
    "\n",
    "#     # parse & store html\n",
    "#     soup = BeautifulSoup(response.content, \"html.parser\")\n",
    "#     eusongs_soups.append(soup.select(\"table.infobox\"))\n",
    "\n",
    "#     # respectful nap:\n",
    "#     wait_time = random.randint(1,4)\n",
    "#     print(\"I will sleep for \" + str(wait_time) + \" second/s.\")\n",
    "#     sleep(wait_time)"
   ]
  },
  {
   "cell_type": "code",
   "execution_count": 16,
   "metadata": {},
   "outputs": [],
   "source": [
    "### get song, country and artist from infocards ready for extraction\n",
    "## standard approach:   \n",
    "# eusongs_soups[5][0].find(\"th\", string = \"Country\").parent.select(\"a\")[0].get_text()\n",
    "# eusongs_soups[5][0].find(\"th\", string = \"Artist(s)\").parent.select(\"a\")[0].get_text()\n",
    "# eusongs_soups[5][0].find(\"th\", string = \"Artist(s)\").parent.select(\"div\")[0].get_text()\n",
    "\n",
    "# ## if main card is extended and some details are not in standard order - usually in hits:\n",
    "# eusongs_soups[57][0].select(\"th.infobox-above\")[0].get_text()                           # single title\n",
    "# eusongs_soups[57][0].select(\"th.infobox-header\")[0].select(\"a\")[1].get_text()           # artist name\n",
    "\n",
    "# ## if details are in 2nd infocard:\n",
    "# eusongs_soups[57][1].find(\"th\", string = \"Country\").parent.select(\"a\")[0].get_text()    # country in 2nd card\n",
    "\n",
    "# ## if they have pseudonyms or groups and individuals are both shown:\n",
    "# eusongs[0][0].find(\"th\", string = \"As\").parent.select(\"a\")[0].get_text()                # group name after members list\n"
   ]
  },
  {
   "cell_type": "code",
   "execution_count": 41,
   "metadata": {},
   "outputs": [],
   "source": [
    "# extract song name, country and artists\n",
    "eusongs = []\n",
    "euartists = []\n",
    "eucountries = []\n",
    "\n",
    "for song in eusongs_soups:\n",
    "    try:\n",
    "        eusongs.append(song[0].select(\"th.infobox-above\")[0].get_text())\n",
    "    except:\n",
    "        eusongs.append(\"NA\")\n",
    "    try:\n",
    "        euartists.append(song[0].find(\"th\", string = \"Artist(s)\").parent.select(\"a\")[0].get_text())\n",
    "    except:\n",
    "        try:\n",
    "            euartists.append(song[0].select(\"th.infobox-header\")[0].select(\"a\")[1].get_text())\n",
    "        except:\n",
    "            try:\n",
    "                euartists.append(song[0].find(\"th\", string = \"As\").parent.select(\"a\")[0].get_text())\n",
    "            except:\n",
    "                try:\n",
    "                    euartists.append(song[0].find(\"th\", string = \"Artist(s)\").parent.select(\"div\")[0].get_text())\n",
    "                except:\n",
    "                    euartists.append(\"NA\")\n",
    "    try:\n",
    "        eucountries.append(song[0].find(\"th\", string = \"Country\").parent.select(\"a\")[0].get_text())\n",
    "    except:\n",
    "        try:\n",
    "            eucountries.append(song[1].find(\"th\", string = \"Country\").parent.select(\"a\")[0].get_text())\n",
    "        except:\n",
    "            eucountries.append(\"NA\")\n",
    "\n",
    "euwinners_df = pd.DataFrame({\"song\":eusongs,\n",
    "                             \"artist\":euartists,\n",
    "                             \"country\":eucountries})\n"
   ]
  },
  {
   "cell_type": "code",
   "execution_count": null,
   "metadata": {},
   "outputs": [],
   "source": [
    "# drop leftover covid row and country to concat\n",
    "euwinners_df = euwinners_df.drop(index = 67, columns = 'country').reset_index(drop=True)"
   ]
  },
  {
   "cell_type": "code",
   "execution_count": null,
   "metadata": {},
   "outputs": [],
   "source": [
    "# remove quotation marks from eu songs for consistency + language-specific special chars that affect search\n",
    "euwinners_df['song'] = euwinners_df.song.str.replace('\"', '')\n",
    "euwinners_df['song'] = euwinners_df.song.replace(r'^ | $','',regex=True)"
   ]
  },
  {
   "cell_type": "code",
   "execution_count": 47,
   "metadata": {},
   "outputs": [
    {
     "data": {
      "text/html": [
       "<div>\n",
       "<style scoped>\n",
       "    .dataframe tbody tr th:only-of-type {\n",
       "        vertical-align: middle;\n",
       "    }\n",
       "\n",
       "    .dataframe tbody tr th {\n",
       "        vertical-align: top;\n",
       "    }\n",
       "\n",
       "    .dataframe thead th {\n",
       "        text-align: right;\n",
       "    }\n",
       "</style>\n",
       "<table border=\"1\" class=\"dataframe\">\n",
       "  <thead>\n",
       "    <tr style=\"text-align: right;\">\n",
       "      <th></th>\n",
       "      <th>song</th>\n",
       "      <th>artist</th>\n",
       "    </tr>\n",
       "  </thead>\n",
       "  <tbody>\n",
       "    <tr>\n",
       "      <th>0</th>\n",
       "      <td>Margaritaville</td>\n",
       "      <td>Jimmy Buffett</td>\n",
       "    </tr>\n",
       "    <tr>\n",
       "      <th>1</th>\n",
       "      <td>Come Monday</td>\n",
       "      <td>Jimmy Buffett</td>\n",
       "    </tr>\n",
       "    <tr>\n",
       "      <th>2</th>\n",
       "      <td>Rich Men North of Richmond</td>\n",
       "      <td>Oliver Anthony Music</td>\n",
       "    </tr>\n",
       "    <tr>\n",
       "      <th>3</th>\n",
       "      <td>Cheeseburger In Paradise</td>\n",
       "      <td>Jimmy Buffett</td>\n",
       "    </tr>\n",
       "    <tr>\n",
       "      <th>4</th>\n",
       "      <td>Changes In Latitudes, Changes In Attitudes</td>\n",
       "      <td>Jimmy Buffett</td>\n",
       "    </tr>\n",
       "    <tr>\n",
       "      <th>...</th>\n",
       "      <td>...</td>\n",
       "      <td>...</td>\n",
       "    </tr>\n",
       "    <tr>\n",
       "      <th>165</th>\n",
       "      <td>Toy</td>\n",
       "      <td>Netta</td>\n",
       "    </tr>\n",
       "    <tr>\n",
       "      <th>166</th>\n",
       "      <td>Arcade</td>\n",
       "      <td>Duncan Laurence</td>\n",
       "    </tr>\n",
       "    <tr>\n",
       "      <th>167</th>\n",
       "      <td>Zitti e buoni</td>\n",
       "      <td>Måneskin</td>\n",
       "    </tr>\n",
       "    <tr>\n",
       "      <th>168</th>\n",
       "      <td>Stefania</td>\n",
       "      <td>Kalush Orchestra</td>\n",
       "    </tr>\n",
       "    <tr>\n",
       "      <th>169</th>\n",
       "      <td>Tattoo</td>\n",
       "      <td>Loreen</td>\n",
       "    </tr>\n",
       "  </tbody>\n",
       "</table>\n",
       "<p>170 rows × 2 columns</p>\n",
       "</div>"
      ],
      "text/plain": [
       "                                           song                artist\n",
       "0                                Margaritaville         Jimmy Buffett\n",
       "1                                   Come Monday         Jimmy Buffett\n",
       "2                    Rich Men North of Richmond  Oliver Anthony Music\n",
       "3                      Cheeseburger In Paradise         Jimmy Buffett\n",
       "4    Changes In Latitudes, Changes In Attitudes         Jimmy Buffett\n",
       "..                                          ...                   ...\n",
       "165                                         Toy                 Netta\n",
       "166                                      Arcade       Duncan Laurence\n",
       "167                               Zitti e buoni              Måneskin\n",
       "168                                    Stefania      Kalush Orchestra\n",
       "169                                      Tattoo                Loreen\n",
       "\n",
       "[170 rows x 2 columns]"
      ]
     },
     "execution_count": 47,
     "metadata": {},
     "output_type": "execute_result"
    }
   ],
   "source": [
    "# concat the two dfs\n",
    "hot_songs = pd.concat([top_100, euwinners_df]).reset_index(drop=True)\n",
    "hot_songs"
   ]
  },
  {
   "cell_type": "markdown",
   "metadata": {},
   "source": [
    "## Song recommendation"
   ]
  },
  {
   "cell_type": "code",
   "execution_count": 64,
   "metadata": {},
   "outputs": [
    {
     "name": "stdout",
     "output_type": "stream",
     "text": [
      "Your rec is in our database: True\n"
     ]
    }
   ],
   "source": [
    "## user input to search song\n",
    "search = input(\"Want a recommendation?\")\n",
    "print(\"Your rec is in our database:\", search in hot_songs.song.values)"
   ]
  },
  {
   "cell_type": "code",
   "execution_count": null,
   "metadata": {},
   "outputs": [],
   "source": []
  }
 ],
 "metadata": {
  "kernelspec": {
   "display_name": "base",
   "language": "python",
   "name": "python3"
  },
  "language_info": {
   "codemirror_mode": {
    "name": "ipython",
    "version": 3
   },
   "file_extension": ".py",
   "mimetype": "text/x-python",
   "name": "python",
   "nbconvert_exporter": "python",
   "pygments_lexer": "ipython3",
   "version": "3.10.9"
  },
  "orig_nbformat": 4
 },
 "nbformat": 4,
 "nbformat_minor": 2
}
